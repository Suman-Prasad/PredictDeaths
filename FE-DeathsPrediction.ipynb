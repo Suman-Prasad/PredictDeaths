{
 "cells": [
  {
   "cell_type": "code",
   "execution_count": 94,
   "metadata": {},
   "outputs": [],
   "source": [
    "import pandas as pd\n",
    "import numpy as np\n",
    "import requests\n",
    "import json\n",
    "import csv\n",
    "\n",
    "from csv import writer\n",
    "from csv import reader\n",
    "\n",
    "data = pd.read_csv('/Users/Madhusudan/downloads/COVID_CA_CASES_RAW.csv')\n",
    "data = data.drop(['Current data Date', 'County name', 'FIPS County Code'], axis=1)\n",
    "data.to_csv ('/Users/Madhusudan/downloads/COVID_CA_CASES_FE.csv', index = False, header=True)\n",
    "\n",
    "# the function that can be used for integration into code to generate and use CASE predictions.\n",
    "def get_prediction(data={\"Population\":1685886,\"Cases as of 3/4/20\":35,\"Cases as of 3/11/20\":77,\"Casesas of 3/18/20\":111,\"Cases as of 3/25/20\":193,\"Cases as of 4/1/20\":287,\"Cases as of 4/8/20\":623,\"Cases as of 4/15/20\":915,\"Cases as of 4/22/20\":1300,\"Cases as of 4/29/20\":1603,\"Cases as of 5/6/20\":1864,\"Current Cases (5/11/20)\":2103}):\n",
    "    url = 'https://k7acq76z66.execute-api.us-east-1.amazonaws.com/Predict/3b5f5fb9-8bce-4299-9b1f-ed7b0622a52b'\n",
    "    r = requests.post(url, data=json.dumps(data))\n",
    "    response = getattr(r,'_content').decode(\"utf-8\")\n",
    "   # print(response)\n",
    "    return response \n",
    "\n",
    "# add the prediction column with its value into the dict. Open the cases csv in read mode to generate predictions.\n",
    "# Populate the prediction_array\n",
    "prediction_array = [dict() for x in range(len(records_array))]\n",
    "records_array = data.to_dict('records')\n",
    "\n",
    "for a in range(0,len(records_array)):\n",
    "    prediction = json.loads(json.loads(get_prediction(data = records_array[a]))['body'])['predicted_label']\n",
    "    records_array[a][\"Cases Predicted\"] = prediction\n",
    "    prediction_array[a][\"Cases Predicted\"] = prediction\n"
   ]
  },
  {
   "cell_type": "code",
   "execution_count": 99,
   "metadata": {},
   "outputs": [
    {
     "name": "stdout",
     "output_type": "stream",
     "text": [
      "{'Population': 79290, 'Deaths as of 3/4/20': 0, 'Deaths as of 3/11/20': 0, 'Deaths as of 3/18/20': 0, 'Deaths as of 3/25/20': 0, 'Deaths as of 4/1/20': 0, 'Deaths as of 4/8/20': 0, 'Deaths as of 4/15/20': 1, 'Deaths as of 4/22/20': 1, 'Deaths as of 4/29/20': 1, 'Deaths as of 5/6/20': 1, 'Current Deaths (5/11/20)': 1, 'Deaths next week (5/17/20)': 1, 'Cases Predicted': 13.927571933574164}\n"
     ]
    }
   ],
   "source": [
    "\n",
    "# Raw dataset has extra three columns that can be dropped. Given the population of an area, the COVID19 deaths history, \n",
    "# and the number of cases predicted from the CASESNEXTWEEK AI service, a new AI runs to generate death predictions.\n",
    "# the new csv file COVID_CA_DEATHS_FE.csv is fed into the algorithm to generate predictions. This will also have the \n",
    "# number of cases predicted from the previous AI service added as an extra column.\n",
    "data = pd.read_csv('/Users/Madhusudan/downloads/COVID_CA_DEATHS_RAW.csv')\n",
    "data = data.drop(['Current data Date', 'County name', 'FIPS County Code'], axis=1)\n",
    "records_array = data.to_dict('records')\n",
    "\n",
    "# Append prediction_array to data\n",
    "for a in range(0,len(records_array)):\n",
    "    records_array[a][\"Cases Predicted\"] = prediction_array[a][\"Cases Predicted\"]\n",
    "\n",
    "# The file below will be used as input to the Death Predictor AI.\n",
    "f = open('/Users/Madhusudan/downloads/COVID_CA_DEATHS_FE_withCases_Prediction.csv','w')\n",
    "w = csv.writer(f)\n",
    "\n",
    "# write all data with Cases predictions into csv\n",
    "w.writerow(records_array[0].keys())\n",
    "for a in range(0,len(records_array)):\n",
    "    w.writerow(records_array[a].values())  \n",
    "f.close()"
   ]
  },
  {
   "cell_type": "code",
   "execution_count": 100,
   "metadata": {},
   "outputs": [
    {
     "name": "stdout",
     "output_type": "stream",
     "text": [
      "{'Population': 1685886, 'Deaths as of 3/4/20': 0, 'Deaths as of 3/11/20': 1, 'Deaths as of 3/18/20': 3, 'Deaths as of 3/25/20': 6, 'Deaths as of 4/1/20': 9, 'Deaths as of 4/8/20': 15, 'Deaths as of 4/15/20': 36, 'Deaths as of 4/22/20': 50, 'Deaths as of 4/29/20': 61, 'Deaths as of 5/6/20': 69, 'Current Deaths (5/11/20)': 75, 'Deaths next week (5/17/20)': 85, 'Cases Predicted': 2328.515286655843, 'Deaths Predicted': 85.40598461689757}\n",
      "{'Population': 1117, 'Deaths as of 3/4/20': 0, 'Deaths as of 3/11/20': 0, 'Deaths as of 3/18/20': 0, 'Deaths as of 3/25/20': 0, 'Deaths as of 4/1/20': 0, 'Deaths as of 4/8/20': 0, 'Deaths as of 4/15/20': 0, 'Deaths as of 4/22/20': 0, 'Deaths as of 4/29/20': 0, 'Deaths as of 5/6/20': 0, 'Current Deaths (5/11/20)': 0, 'Deaths next week (5/17/20)': 0, 'Cases Predicted': -8.473640099652014, 'Deaths Predicted': 0.1554351572665403}\n",
      "{'Population': 38531, 'Deaths as of 3/4/20': 0, 'Deaths as of 3/11/20': 0, 'Deaths as of 3/18/20': 0, 'Deaths as of 3/25/20': 0, 'Deaths as of 4/1/20': 0, 'Deaths as of 4/8/20': 0, 'Deaths as of 4/15/20': 0, 'Deaths as of 4/22/20': 0, 'Deaths as of 4/29/20': 0, 'Deaths as of 5/6/20': 0, 'Current Deaths (5/11/20)': 0, 'Deaths next week (5/17/20)': 0, 'Cases Predicted': 1.305085255738497, 'Deaths Predicted': 0.17025296157954342}\n",
      "{'Population': 217769, 'Deaths as of 3/4/20': 0, 'Deaths as of 3/11/20': 0, 'Deaths as of 3/18/20': 0, 'Deaths as of 3/25/20': 0, 'Deaths as of 4/1/20': 0, 'Deaths as of 4/8/20': 0, 'Deaths as of 4/15/20': 0, 'Deaths as of 4/22/20': 0, 'Deaths as of 4/29/20': 0, 'Deaths as of 5/6/20': 0, 'Current Deaths (5/11/20)': 0, 'Deaths next week (5/17/20)': 0, 'Cases Predicted': 33.433183384195246, 'Deaths Predicted': 0.18557380305597862}\n",
      "{'Population': 44289, 'Deaths as of 3/4/20': 0, 'Deaths as of 3/11/20': 0, 'Deaths as of 3/18/20': 0, 'Deaths as of 3/25/20': 0, 'Deaths as of 4/1/20': 0, 'Deaths as of 4/8/20': 0, 'Deaths as of 4/15/20': 0, 'Deaths as of 4/22/20': 0, 'Deaths as of 4/29/20': 0, 'Deaths as of 5/6/20': 0, 'Current Deaths (5/11/20)': 0, 'Deaths next week (5/17/20)': 0, 'Cases Predicted': 7.035576700372282, 'Deaths Predicted': 0.1885147009880546}\n",
      "{'Population': 22593, 'Deaths as of 3/4/20': 0, 'Deaths as of 3/11/20': 0, 'Deaths as of 3/18/20': 0, 'Deaths as of 3/25/20': 1, 'Deaths as of 4/1/20': 1, 'Deaths as of 4/8/20': 0, 'Deaths as of 4/15/20': 0, 'Deaths as of 4/22/20': 0, 'Deaths as of 4/29/20': 0, 'Deaths as of 5/6/20': 0, 'Current Deaths (5/11/20)': 0, 'Deaths next week (5/17/20)': 0, 'Cases Predicted': -4.722987433333257, 'Deaths Predicted': -0.8142356524199879}\n",
      "{'Population': 1160099, 'Deaths as of 3/4/20': 0, 'Deaths as of 3/11/20': 0, 'Deaths as of 3/18/20': 1, 'Deaths as of 3/25/20': 1, 'Deaths as of 4/1/20': 3, 'Deaths as of 4/8/20': 8, 'Deaths as of 4/15/20': 14, 'Deaths as of 4/22/20': 20, 'Deaths as of 4/29/20': 27, 'Deaths as of 5/6/20': 29, 'Current Deaths (5/11/20)': 32, 'Deaths next week (5/17/20)': 33, 'Cases Predicted': 1163.0929310513054, 'Deaths Predicted': 37.53188888793891}\n",
      "{'Population': 27558, 'Deaths as of 3/4/20': 0, 'Deaths as of 3/11/20': 0, 'Deaths as of 3/18/20': 0, 'Deaths as of 3/25/20': 0, 'Deaths as of 4/1/20': 0, 'Deaths as of 4/8/20': 0, 'Deaths as of 4/15/20': 0, 'Deaths as of 4/22/20': 0, 'Deaths as of 4/29/20': 0, 'Deaths as of 5/6/20': 0, 'Current Deaths (5/11/20)': 0, 'Deaths next week (5/17/20)': 0, 'Cases Predicted': -1.6481362382916256, 'Deaths Predicted': 0.1655846537112757}\n",
      "{'Population': 193098, 'Deaths as of 3/4/20': 0, 'Deaths as of 3/11/20': 0, 'Deaths as of 3/18/20': 0, 'Deaths as of 3/25/20': 0, 'Deaths as of 4/1/20': 0, 'Deaths as of 4/8/20': 0, 'Deaths as of 4/15/20': 0, 'Deaths as of 4/22/20': 0, 'Deaths as of 4/29/20': 0, 'Deaths as of 5/6/20': 0, 'Current Deaths (5/11/20)': 0, 'Deaths next week (5/17/20)': 0, 'Cases Predicted': 71.11852559624734, 'Deaths Predicted': 0.3427183986369382}\n",
      "{'Population': 1032227, 'Deaths as of 3/4/20': 0, 'Deaths as of 3/11/20': 0, 'Deaths as of 3/18/20': 0, 'Deaths as of 3/25/20': 1, 'Deaths as of 4/1/20': 1, 'Deaths as of 4/8/20': 3, 'Deaths as of 4/15/20': 7, 'Deaths as of 4/22/20': 7, 'Deaths as of 4/29/20': 7, 'Deaths as of 5/6/20': 9, 'Current Deaths (5/11/20)': 9, 'Deaths next week (5/17/20)': 16, 'Cases Predicted': 1181.2798579408798, 'Deaths Predicted': 17.245125238544972}\n",
      "{'Population': 29348, 'Deaths as of 3/4/20': 0, 'Deaths as of 3/11/20': 0, 'Deaths as of 3/18/20': 0, 'Deaths as of 3/25/20': 0, 'Deaths as of 4/1/20': 0, 'Deaths as of 4/8/20': 0, 'Deaths as of 4/15/20': 0, 'Deaths as of 4/22/20': 0, 'Deaths as of 4/29/20': 0, 'Deaths as of 5/6/20': 0, 'Current Deaths (5/11/20)': 0, 'Deaths next week (5/17/20)': 0, 'Cases Predicted': 0.10474301415208309, 'Deaths Predicted': 0.17115366394668813}\n",
      "{'Population': 134098, 'Deaths as of 3/4/20': 0, 'Deaths as of 3/11/20': 0, 'Deaths as of 3/18/20': 0, 'Deaths as of 3/25/20': 0, 'Deaths as of 4/1/20': 0, 'Deaths as of 4/8/20': 0, 'Deaths as of 4/15/20': 0, 'Deaths as of 4/22/20': 0, 'Deaths as of 4/29/20': 0, 'Deaths as of 5/6/20': 0, 'Current Deaths (5/11/20)': 0, 'Deaths next week (5/17/20)': 0, 'Cases Predicted': 60.08091425277392, 'Deaths Predicted': 0.3359280399578606}\n",
      "{'Population': 191649, 'Deaths as of 3/4/20': 0, 'Deaths as of 3/11/20': 0, 'Deaths as of 3/18/20': 0, 'Deaths as of 3/25/20': 0, 'Deaths as of 4/1/20': 0, 'Deaths as of 4/8/20': 0, 'Deaths as of 4/15/20': 3, 'Deaths as of 4/22/20': 6, 'Deaths as of 4/29/20': 9, 'Deaths as of 5/6/20': 10, 'Current Deaths (5/11/20)': 12, 'Deaths next week (5/17/20)': 15, 'Cases Predicted': 641.5120970712105, 'Deaths Predicted': 14.900489256599064}\n",
      "{'Population': 18453, 'Deaths as of 3/4/20': 0, 'Deaths as of 3/11/20': 0, 'Deaths as of 3/18/20': 0, 'Deaths as of 3/25/20': 0, 'Deaths as of 4/1/20': 0, 'Deaths as of 4/8/20': 0, 'Deaths as of 4/15/20': 0, 'Deaths as of 4/22/20': 0, 'Deaths as of 4/29/20': 1, 'Deaths as of 5/6/20': 1, 'Current Deaths (5/11/20)': 1, 'Deaths next week (5/17/20)': 1, 'Cases Predicted': 13.76762384106722, 'Deaths Predicted': 0.6959648315530013}\n",
      "{'Population': 927251, 'Deaths as of 3/4/20': 0, 'Deaths as of 3/11/20': 0, 'Deaths as of 3/18/20': 0, 'Deaths as of 3/25/20': 0, 'Deaths as of 4/1/20': 0, 'Deaths as of 4/8/20': 0, 'Deaths as of 4/15/20': 3, 'Deaths as of 4/22/20': 4, 'Deaths as of 4/29/20': 7, 'Deaths as of 5/6/20': 14, 'Current Deaths (5/11/20)': 16, 'Deaths next week (5/17/20)': 26, 'Cases Predicted': 1521.1617326408366, 'Deaths Predicted': 19.94479439275423}\n",
      "{'Population': 156444, 'Deaths as of 3/4/20': 0, 'Deaths as of 3/11/20': 0, 'Deaths as of 3/18/20': 0, 'Deaths as of 3/25/20': 0, 'Deaths as of 4/1/20': 0, 'Deaths as of 4/8/20': 0, 'Deaths as of 4/15/20': 1, 'Deaths as of 4/22/20': 1, 'Deaths as of 4/29/20': 1, 'Deaths as of 5/6/20': 1, 'Current Deaths (5/11/20)': 1, 'Deaths next week (5/17/20)': 1, 'Cases Predicted': 383.89186191179135, 'Deaths Predicted': 2.782068324016539}\n",
      "{'Population': 64871, 'Deaths as of 3/4/20': 0, 'Deaths as of 3/11/20': 0, 'Deaths as of 3/18/20': 0, 'Deaths as of 3/25/20': 0, 'Deaths as of 4/1/20': 0, 'Deaths as of 4/8/20': 0, 'Deaths as of 4/15/20': 0, 'Deaths as of 4/22/20': 0, 'Deaths as of 4/29/20': 0, 'Deaths as of 5/6/20': 0, 'Current Deaths (5/11/20)': 0, 'Deaths next week (5/17/20)': 0, 'Cases Predicted': 4.59859972674554, 'Deaths Predicted': 0.1671040966571109}\n",
      "{'Population': 30065, 'Deaths as of 3/4/20': 0, 'Deaths as of 3/11/20': 0, 'Deaths as of 3/18/20': 0, 'Deaths as of 3/25/20': 0, 'Deaths as of 4/1/20': 0, 'Deaths as of 4/8/20': 0, 'Deaths as of 4/15/20': 0, 'Deaths as of 4/22/20': 0, 'Deaths as of 4/29/20': 0, 'Deaths as of 5/6/20': 0, 'Current Deaths (5/11/20)': 0, 'Deaths next week (5/17/20)': 0, 'Cases Predicted': -6.273961532832932, 'Deaths Predicted': 0.1466042283774731}\n",
      "{'Population': 10257557, 'Deaths as of 3/4/20': 8, 'Deaths as of 3/11/20': 21, 'Deaths as of 3/18/20': 39, 'Deaths as of 3/25/20': 52, 'Deaths as of 4/1/20': 66, 'Deaths as of 4/8/20': 211, 'Deaths as of 4/15/20': 402, 'Deaths as of 4/22/20': 845, 'Deaths as of 4/29/20': 1111, 'Deaths as of 5/6/20': 1367, 'Current Deaths (5/11/20)': 1569, 'Deaths next week (5/17/20)': 1821, 'Cases Predicted': 37994.94019233418, 'Deaths Predicted': 1821.2517484373752}\n"
     ]
    },
    {
     "name": "stdout",
     "output_type": "stream",
     "text": [
      "{'Population': 160089, 'Deaths as of 3/4/20': 0, 'Deaths as of 3/11/20': 0, 'Deaths as of 3/18/20': 0, 'Deaths as of 3/25/20': 0, 'Deaths as of 4/1/20': 1, 'Deaths as of 4/8/20': 1, 'Deaths as of 4/15/20': 2, 'Deaths as of 4/22/20': 2, 'Deaths as of 4/29/20': 2, 'Deaths as of 5/6/20': 2, 'Current Deaths (5/11/20)': 2, 'Deaths next week (5/17/20)': 2, 'Cases Predicted': 65.9009184719115, 'Deaths Predicted': 1.9479043619327292}\n",
      "{'Population': 260800, 'Deaths as of 3/4/20': 0, 'Deaths as of 3/11/20': 0, 'Deaths as of 3/18/20': 1, 'Deaths as of 3/25/20': 1, 'Deaths as of 4/1/20': 1, 'Deaths as of 4/8/20': 4, 'Deaths as of 4/15/20': 10, 'Deaths as of 4/22/20': 11, 'Deaths as of 4/29/20': 13, 'Deaths as of 5/6/20': 14, 'Current Deaths (5/11/20)': 14, 'Deaths next week (5/17/20)': 14, 'Cases Predicted': 294.24968076236615, 'Deaths Predicted': 15.361382140632395}\n",
      "{'Population': 17795, 'Deaths as of 3/4/20': 0, 'Deaths as of 3/11/20': 0, 'Deaths as of 3/18/20': 0, 'Deaths as of 3/25/20': 0, 'Deaths as of 4/1/20': 0, 'Deaths as of 4/8/20': 0, 'Deaths as of 4/15/20': 0, 'Deaths as of 4/22/20': 0, 'Deaths as of 4/29/20': 0, 'Deaths as of 5/6/20': 0, 'Current Deaths (5/11/20)': 0, 'Deaths next week (5/17/20)': 1, 'Cases Predicted': 14.040988411816066, 'Deaths Predicted': 0.23070596885403055}\n",
      "{'Population': 88439, 'Deaths as of 3/4/20': 0, 'Deaths as of 3/11/20': 0, 'Deaths as of 3/18/20': 0, 'Deaths as of 3/25/20': 0, 'Deaths as of 4/1/20': 0, 'Deaths as of 4/8/20': 0, 'Deaths as of 4/15/20': 0, 'Deaths as of 4/22/20': 0, 'Deaths as of 4/29/20': 0, 'Deaths as of 5/6/20': 0, 'Current Deaths (5/11/20)': 0, 'Deaths next week (5/17/20)': 0, 'Cases Predicted': 11.158460875964963, 'Deaths Predicted': 0.17795102549422284}\n",
      "{'Population': 287420, 'Deaths as of 3/4/20': 0, 'Deaths as of 3/11/20': 0, 'Deaths as of 3/18/20': 0, 'Deaths as of 3/25/20': 0, 'Deaths as of 4/1/20': 0, 'Deaths as of 4/8/20': 0, 'Deaths as of 4/15/20': 3, 'Deaths as of 4/22/20': 3, 'Deaths as of 4/29/20': 3, 'Deaths as of 5/6/20': 3, 'Current Deaths (5/11/20)': 3, 'Deaths next week (5/17/20)': 6, 'Cases Predicted': 193.70632506975053, 'Deaths Predicted': 4.454591225124606}\n",
      "{'Population': 9475, 'Deaths as of 3/4/20': 0, 'Deaths as of 3/11/20': 0, 'Deaths as of 3/18/20': 0, 'Deaths as of 3/25/20': 0, 'Deaths as of 4/1/20': 0, 'Deaths as of 4/8/20': 0, 'Deaths as of 4/15/20': 0, 'Deaths as of 4/22/20': 0, 'Deaths as of 4/29/20': 0, 'Deaths as of 5/6/20': 0, 'Current Deaths (5/11/20)': 0, 'Deaths next week (5/17/20)': 0, 'Cases Predicted': -8.395848212493572, 'Deaths Predicted': 0.15077767251831037}\n",
      "{'Population': 13961, 'Deaths as of 3/4/20': 0, 'Deaths as of 3/11/20': 0, 'Deaths as of 3/18/20': 0, 'Deaths as of 3/25/20': 0, 'Deaths as of 4/1/20': 1, 'Deaths as of 4/8/20': 1, 'Deaths as of 4/15/20': 1, 'Deaths as of 4/22/20': 1, 'Deaths as of 4/29/20': 1, 'Deaths as of 5/6/20': 1, 'Current Deaths (5/11/20)': 1, 'Deaths next week (5/17/20)': 1, 'Cases Predicted': 22.37420515858915, 'Deaths Predicted': 0.6351507755534822}\n",
      "{'Population': 448732, 'Deaths as of 3/4/20': 0, 'Deaths as of 3/11/20': 1, 'Deaths as of 3/18/20': 1, 'Deaths as of 3/25/20': 1, 'Deaths as of 4/1/20': 2, 'Deaths as of 4/8/20': 2, 'Deaths as of 4/15/20': 3, 'Deaths as of 4/22/20': 4, 'Deaths as of 4/29/20': 5, 'Deaths as of 5/6/20': 6, 'Current Deaths (5/11/20)': 6, 'Deaths next week (5/17/20)': 8, 'Cases Predicted': 353.1115554227271, 'Deaths Predicted': 6.845581690359594}\n",
      "{'Population': 139652, 'Deaths as of 3/4/20': 0, 'Deaths as of 3/11/20': 0, 'Deaths as of 3/18/20': 0, 'Deaths as of 3/25/20': 0, 'Deaths as of 4/1/20': 0, 'Deaths as of 4/8/20': 0, 'Deaths as of 4/15/20': 2, 'Deaths as of 4/22/20': 2, 'Deaths as of 4/29/20': 2, 'Deaths as of 5/6/20': 2, 'Current Deaths (5/11/20)': 3, 'Deaths next week (5/17/20)': 3, 'Cases Predicted': 96.38798921678014, 'Deaths Predicted': 4.9349762752467665}\n",
      "{'Population': 98710, 'Deaths as of 3/4/20': 0, 'Deaths as of 3/11/20': 0, 'Deaths as of 3/18/20': 0, 'Deaths as of 3/25/20': 0, 'Deaths as of 4/1/20': 0, 'Deaths as of 4/8/20': 0, 'Deaths as of 4/15/20': 1, 'Deaths as of 4/22/20': 1, 'Deaths as of 4/29/20': 1, 'Deaths as of 5/6/20': 1, 'Current Deaths (5/11/20)': 1, 'Deaths next week (5/17/20)': 1, 'Cases Predicted': 39.088641551603445, 'Deaths Predicted': 1.512206077005084}\n",
      "{'Population': 3228519, 'Deaths as of 3/4/20': 0, 'Deaths as of 3/11/20': 1, 'Deaths as of 3/18/20': 4, 'Deaths as of 3/25/20': 8, 'Deaths as of 4/1/20': 11, 'Deaths as of 4/8/20': 16, 'Deaths as of 4/15/20': 22, 'Deaths as of 4/22/20': 34, 'Deaths as of 4/29/20': 46, 'Deaths as of 5/6/20': 65, 'Current Deaths (5/11/20)': 78, 'Deaths next week (5/17/20)': 88, 'Cases Predicted': 4452.521033648146, 'Deaths Predicted': 89.2995770167538}\n",
      "{'Population': 400434, 'Deaths as of 3/4/20': 0, 'Deaths as of 3/11/20': 0, 'Deaths as of 3/18/20': 1, 'Deaths as of 3/25/20': 1, 'Deaths as of 4/1/20': 2, 'Deaths as of 4/8/20': 4, 'Deaths as of 4/15/20': 7, 'Deaths as of 4/22/20': 9, 'Deaths as of 4/29/20': 12, 'Deaths as of 5/6/20': 8, 'Current Deaths (5/11/20)': 8, 'Deaths next week (5/17/20)': 9, 'Cases Predicted': 202.52131069948732, 'Deaths Predicted': 7.03940901776817}\n",
      "{'Population': 18997, 'Deaths as of 3/4/20': 0, 'Deaths as of 3/11/20': 0, 'Deaths as of 3/18/20': 0, 'Deaths as of 3/25/20': 0, 'Deaths as of 4/1/20': 0, 'Deaths as of 4/8/20': 0, 'Deaths as of 4/15/20': 0, 'Deaths as of 4/22/20': 0, 'Deaths as of 4/29/20': 0, 'Deaths as of 5/6/20': 0, 'Current Deaths (5/11/20)': 0, 'Deaths next week (5/17/20)': 0, 'Cases Predicted': -4.31293554042448, 'Deaths Predicted': 0.16057818635113885}\n",
      "{'Population': 2468145, 'Deaths as of 3/4/20': 0, 'Deaths as of 3/11/20': 1, 'Deaths as of 3/18/20': 2, 'Deaths as of 3/25/20': 6, 'Deaths as of 4/1/20': 11, 'Deaths as of 4/8/20': 34, 'Deaths as of 4/15/20': 59, 'Deaths as of 4/22/20': 77, 'Deaths as of 4/29/20': 156, 'Deaths as of 5/6/20': 194, 'Current Deaths (5/11/20)': 228, 'Deaths next week (5/17/20)': 263, 'Cases Predicted': 5785.900121129166, 'Deaths Predicted': 264.6239666905061}\n",
      "{'Population': 1567975, 'Deaths as of 3/4/20': 0, 'Deaths as of 3/11/20': 0, 'Deaths as of 3/18/20': 1, 'Deaths as of 3/25/20': 4, 'Deaths as of 4/1/20': 8, 'Deaths as of 4/8/20': 12, 'Deaths as of 4/15/20': 28, 'Deaths as of 4/22/20': 33, 'Deaths as of 4/29/20': 43, 'Deaths as of 5/6/20': 48, 'Current Deaths (5/11/20)': 52, 'Deaths next week (5/17/20)': 55, 'Cases Predicted': 1238.315835554791, 'Deaths Predicted': 57.50621611459739}\n",
      "{'Population': 64022, 'Deaths as of 3/4/20': 0, 'Deaths as of 3/11/20': 0, 'Deaths as of 3/18/20': 1, 'Deaths as of 3/25/20': 1, 'Deaths as of 4/1/20': 1, 'Deaths as of 4/8/20': 1, 'Deaths as of 4/15/20': 2, 'Deaths as of 4/22/20': 2, 'Deaths as of 4/29/20': 2, 'Deaths as of 5/6/20': 2, 'Current Deaths (5/11/20)': 2, 'Deaths next week (5/17/20)': 2, 'Cases Predicted': 44.368440591327484, 'Deaths Predicted': -2.0373656389422696}\n",
      "{'Population': 2217398, 'Deaths as of 3/4/20': 1, 'Deaths as of 3/11/20': 1, 'Deaths as of 3/18/20': 1, 'Deaths as of 3/25/20': 2, 'Deaths as of 4/1/20': 5, 'Deaths as of 4/8/20': 22, 'Deaths as of 4/15/20': 37, 'Deaths as of 4/22/20': 60, 'Deaths as of 4/29/20': 93, 'Deaths as of 5/6/20': 104, 'Current Deaths (5/11/20)': 121, 'Deaths next week (5/17/20)': 155, 'Cases Predicted': 3438.8067803578633, 'Deaths Predicted': 153.75207955742354}\n",
      "{'Population': 3370418, 'Deaths as of 3/4/20': 0, 'Deaths as of 3/11/20': 1, 'Deaths as of 3/18/20': 2, 'Deaths as of 3/25/20': 5, 'Deaths as of 4/1/20': 11, 'Deaths as of 4/8/20': 34, 'Deaths as of 4/15/20': 67, 'Deaths as of 4/22/20': 97, 'Deaths as of 4/29/20': 143, 'Deaths as of 5/6/20': 186, 'Current Deaths (5/11/20)': 204, 'Deaths next week (5/17/20)': 242, 'Cases Predicted': 5858.677700814157, 'Deaths Predicted': 239.48216032416457}\n",
      "{'Population': 892280, 'Deaths as of 3/4/20': 0, 'Deaths as of 3/11/20': 0, 'Deaths as of 3/18/20': 1, 'Deaths as of 3/25/20': 2, 'Deaths as of 4/1/20': 6, 'Deaths as of 4/8/20': 11, 'Deaths as of 4/15/20': 17, 'Deaths as of 4/22/20': 20, 'Deaths as of 4/29/20': 25, 'Deaths as of 5/6/20': 31, 'Current Deaths (5/11/20)': 35, 'Deaths next week (5/17/20)': 36, 'Cases Predicted': 2185.4217779749442, 'Deaths Predicted': 44.994394056937466}\n"
     ]
    },
    {
     "name": "stdout",
     "output_type": "stream",
     "text": [
      "{'Population': 782545, 'Deaths as of 3/4/20': 0, 'Deaths as of 3/11/20': 0, 'Deaths as of 3/18/20': 1, 'Deaths as of 3/25/20': 3, 'Deaths as of 4/1/20': 8, 'Deaths as of 4/8/20': 12, 'Deaths as of 4/15/20': 17, 'Deaths as of 4/22/20': 21, 'Deaths as of 4/29/20': 25, 'Deaths as of 5/6/20': 27, 'Current Deaths (5/11/20)': 29, 'Deaths next week (5/17/20)': 32, 'Cases Predicted': 710.138248616709, 'Deaths Predicted': 31.45668720175081}\n",
      "{'Population': 278862, 'Deaths as of 3/4/20': 0, 'Deaths as of 3/11/20': 0, 'Deaths as of 3/18/20': 0, 'Deaths as of 3/25/20': 0, 'Deaths as of 4/1/20': 0, 'Deaths as of 4/8/20': 0, 'Deaths as of 4/15/20': 1, 'Deaths as of 4/22/20': 1, 'Deaths as of 4/29/20': 1, 'Deaths as of 5/6/20': 1, 'Current Deaths (5/11/20)': 1, 'Deaths next week (5/17/20)': 1, 'Cases Predicted': 269.2213756313754, 'Deaths Predicted': 2.2758510028638863}\n",
      "{'Population': 778001, 'Deaths as of 3/4/20': 0, 'Deaths as of 3/11/20': 1, 'Deaths as of 3/18/20': 4, 'Deaths as of 3/25/20': 9, 'Deaths as of 4/1/20': 13, 'Deaths as of 4/8/20': 17, 'Deaths as of 4/15/20': 25, 'Deaths as of 4/22/20': 36, 'Deaths as of 4/29/20': 52, 'Deaths as of 5/6/20': 56, 'Current Deaths (5/11/20)': 65, 'Deaths next week (5/17/20)': 68, 'Cases Predicted': 1648.5842307154967, 'Deaths Predicted': 65.21518940161867}\n",
      "{'Population': 456373, 'Deaths as of 3/4/20': 0, 'Deaths as of 3/11/20': 0, 'Deaths as of 3/18/20': 0, 'Deaths as of 3/25/20': 0, 'Deaths as of 4/1/20': 0, 'Deaths as of 4/8/20': 0, 'Deaths as of 4/15/20': 2, 'Deaths as of 4/22/20': 5, 'Deaths as of 4/29/20': 8, 'Deaths as of 5/6/20': 11, 'Current Deaths (5/11/20)': 11, 'Deaths next week (5/17/20)': 11, 'Cases Predicted': 1463.4089748534266, 'Deaths Predicted': 13.933010204591051}\n",
      "{'Population': 1967585, 'Deaths as of 3/4/20': 5, 'Deaths as of 3/11/20': 9, 'Deaths as of 3/18/20': 13, 'Deaths as of 3/25/20': 24, 'Deaths as of 4/1/20': 33, 'Deaths as of 4/8/20': 50, 'Deaths as of 4/15/20': 66, 'Deaths as of 4/22/20': 87, 'Deaths as of 4/29/20': 111, 'Deaths as of 5/6/20': 126, 'Current Deaths (5/11/20)': 133, 'Deaths next week (5/17/20)': 136, 'Cases Predicted': 2452.679272197257, 'Deaths Predicted': 135.84678659172408}\n",
      "{'Population': 273999, 'Deaths as of 3/4/20': 0, 'Deaths as of 3/11/20': 0, 'Deaths as of 3/18/20': 0, 'Deaths as of 3/25/20': 1, 'Deaths as of 4/1/20': 1, 'Deaths as of 4/8/20': 1, 'Deaths as of 4/15/20': 1, 'Deaths as of 4/22/20': 1, 'Deaths as of 4/29/20': 2, 'Deaths as of 5/6/20': 2, 'Current Deaths (5/11/20)': 2, 'Deaths next week (5/17/20)': 3, 'Cases Predicted': 153.1830131508823, 'Deaths Predicted': 2.7428242788305974}\n",
      "{'Population': 273999, 'Deaths as of 3/4/20': 0, 'Deaths as of 3/11/20': 0, 'Deaths as of 3/18/20': 1, 'Deaths as of 3/25/20': 1, 'Deaths as of 4/1/20': 1, 'Deaths as of 4/8/20': 1, 'Deaths as of 4/15/20': 3, 'Deaths as of 4/22/20': 3, 'Deaths as of 4/29/20': 4, 'Deaths as of 5/6/20': 4, 'Current Deaths (5/11/20)': 4, 'Deaths next week (5/17/20)': 4, 'Cases Predicted': 48.25003417487503, 'Deaths Predicted': -0.4456970818373557}\n",
      "{'Population': 3115, 'Deaths as of 3/4/20': 0, 'Deaths as of 3/11/20': 0, 'Deaths as of 3/18/20': 0, 'Deaths as of 3/25/20': 0, 'Deaths as of 4/1/20': 0, 'Deaths as of 4/8/20': 0, 'Deaths as of 4/15/20': 0, 'Deaths as of 4/22/20': 0, 'Deaths as of 4/29/20': 0, 'Deaths as of 5/6/20': 0, 'Current Deaths (5/11/20)': 0, 'Deaths next week (5/17/20)': 0, 'Cases Predicted': -9.051273141227991, 'Deaths Predicted': 0.15206679853752966}\n",
      "{'Population': 43956, 'Deaths as of 3/4/20': 0, 'Deaths as of 3/11/20': 0, 'Deaths as of 3/18/20': 0, 'Deaths as of 3/25/20': 0, 'Deaths as of 4/1/20': 0, 'Deaths as of 4/8/20': 0, 'Deaths as of 4/15/20': 5, 'Deaths as of 4/22/20': 0, 'Deaths as of 4/29/20': 0, 'Deaths as of 5/6/20': 0, 'Current Deaths (5/11/20)': 0, 'Deaths next week (5/17/20)': 0, 'Cases Predicted': 0.7669697062898688, 'Deaths Predicted': 1.9204496152905042}\n",
      "{'Population': 444255, 'Deaths as of 3/4/20': 0, 'Deaths as of 3/11/20': 0, 'Deaths as of 3/18/20': 0, 'Deaths as of 3/25/20': 0, 'Deaths as of 4/1/20': 0, 'Deaths as of 4/8/20': 0, 'Deaths as of 4/15/20': 2, 'Deaths as of 4/22/20': 3, 'Deaths as of 4/29/20': 5, 'Deaths as of 5/6/20': 7, 'Current Deaths (5/11/20)': 10, 'Deaths next week (5/17/20)': 16, 'Cases Predicted': 412.78065137623946, 'Deaths Predicted': 13.066152932848988}\n",
      "{'Population': 496668, 'Deaths as of 3/4/20': 0, 'Deaths as of 3/11/20': 0, 'Deaths as of 3/18/20': 0, 'Deaths as of 3/25/20': 1, 'Deaths as of 4/1/20': 1, 'Deaths as of 4/8/20': 1, 'Deaths as of 4/15/20': 2, 'Deaths as of 4/22/20': 2, 'Deaths as of 4/29/20': 2, 'Deaths as of 5/6/20': 4, 'Current Deaths (5/11/20)': 4, 'Deaths next week (5/17/20)': 4, 'Cases Predicted': 371.43971440236487, 'Deaths Predicted': 5.511207601047956}\n",
      "{'Population': 562303, 'Deaths as of 3/4/20': 0, 'Deaths as of 3/11/20': 0, 'Deaths as of 3/18/20': 0, 'Deaths as of 3/25/20': 0, 'Deaths as of 4/1/20': 0, 'Deaths as of 4/8/20': 0, 'Deaths as of 4/15/20': 4, 'Deaths as of 4/22/20': 7, 'Deaths as of 4/29/20': 11, 'Deaths as of 5/6/20': 17, 'Current Deaths (5/11/20)': 21, 'Deaths next week (5/17/20)': 24, 'Cases Predicted': 612.5014858674356, 'Deaths Predicted': 23.530833774185478}\n",
      "{'Population': 105747, 'Deaths as of 3/4/20': 0, 'Deaths as of 3/11/20': 0, 'Deaths as of 3/18/20': 0, 'Deaths as of 3/25/20': 1, 'Deaths as of 4/1/20': 1, 'Deaths as of 4/8/20': 1, 'Deaths as of 4/15/20': 2, 'Deaths as of 4/22/20': 2, 'Deaths as of 4/29/20': 2, 'Deaths as of 5/6/20': 2, 'Current Deaths (5/11/20)': 2, 'Deaths next week (5/17/20)': 2, 'Cases Predicted': 31.49942525389858, 'Deaths Predicted': 3.1503143548050296}\n",
      "{'Population': 65885, 'Deaths as of 3/4/20': 0, 'Deaths as of 3/11/20': 0, 'Deaths as of 3/18/20': 0, 'Deaths as of 3/25/20': 0, 'Deaths as of 4/1/20': 0, 'Deaths as of 4/8/20': 0, 'Deaths as of 4/15/20': 1, 'Deaths as of 4/22/20': 1, 'Deaths as of 4/29/20': 0, 'Deaths as of 5/6/20': 1, 'Current Deaths (5/11/20)': 1, 'Deaths next week (5/17/20)': 1, 'Cases Predicted': -0.7898524808765153, 'Deaths Predicted': 1.5675575810627784}\n",
      "{'Population': 13354, 'Deaths as of 3/4/20': 0, 'Deaths as of 3/11/20': 0, 'Deaths as of 3/18/20': 0, 'Deaths as of 3/25/20': 0, 'Deaths as of 4/1/20': 0, 'Deaths as of 4/8/20': 0, 'Deaths as of 4/15/20': 0, 'Deaths as of 4/22/20': 0, 'Deaths as of 4/29/20': 0, 'Deaths as of 5/6/20': 0, 'Current Deaths (5/11/20)': 0, 'Deaths next week (5/17/20)': 0, 'Cases Predicted': -7.996100838506024, 'Deaths Predicted': 0.14999142726224882}\n",
      "{'Population': 484423, 'Deaths as of 3/4/20': 0, 'Deaths as of 3/11/20': 0, 'Deaths as of 3/18/20': 1, 'Deaths as of 3/25/20': 1, 'Deaths as of 4/1/20': 1, 'Deaths as of 4/8/20': 7, 'Deaths as of 4/15/20': 15, 'Deaths as of 4/22/20': 29, 'Deaths as of 4/29/20': 40, 'Deaths as of 5/6/20': 41, 'Current Deaths (5/11/20)': 50, 'Deaths next week (5/17/20)': 67, 'Cases Predicted': 1467.1489703347095, 'Deaths Predicted': 63.70828420846479}\n",
      "{'Population': 52351, 'Deaths as of 3/4/20': 0, 'Deaths as of 3/11/20': 0, 'Deaths as of 3/18/20': 0, 'Deaths as of 3/25/20': 0, 'Deaths as of 4/1/20': 0, 'Deaths as of 4/8/20': 0, 'Deaths as of 4/15/20': 0, 'Deaths as of 4/22/20': 0, 'Deaths as of 4/29/20': 0, 'Deaths as of 5/6/20': 0, 'Current Deaths (5/11/20)': 0, 'Deaths next week (5/17/20)': 0, 'Cases Predicted': -2.897840733960712, 'Deaths Predicted': 0.14616957854500334}\n",
      "{'Population': 852747, 'Deaths as of 3/4/20': 0, 'Deaths as of 3/11/20': 1, 'Deaths as of 3/18/20': 1, 'Deaths as of 3/25/20': 2, 'Deaths as of 4/1/20': 5, 'Deaths as of 4/8/20': 8, 'Deaths as of 4/15/20': 13, 'Deaths as of 4/22/20': 16, 'Deaths as of 4/29/20': 18, 'Deaths as of 5/6/20': 19, 'Current Deaths (5/11/20)': 19, 'Deaths next week (5/17/20)': 25, 'Cases Predicted': 817.4221984769545, 'Deaths Predicted': 25.873648848145145}\n",
      "{'Population': 223612, 'Deaths as of 3/4/20': 0, 'Deaths as of 3/11/20': 0, 'Deaths as of 3/18/20': 1, 'Deaths as of 3/25/20': 1, 'Deaths as of 4/1/20': 1, 'Deaths as of 4/8/20': 4, 'Deaths as of 4/15/20': 7, 'Deaths as of 4/22/20': 13, 'Deaths as of 4/29/20': 16, 'Deaths as of 5/6/20': 18, 'Current Deaths (5/11/20)': 20, 'Deaths next week (5/17/20)': 22, 'Cases Predicted': 193.35070716024654, 'Deaths Predicted': 20.82708795312608}\n"
     ]
    },
    {
     "name": "stdout",
     "output_type": "stream",
     "text": [
      "{'Population': 79290, 'Deaths as of 3/4/20': 0, 'Deaths as of 3/11/20': 0, 'Deaths as of 3/18/20': 0, 'Deaths as of 3/25/20': 0, 'Deaths as of 4/1/20': 0, 'Deaths as of 4/8/20': 0, 'Deaths as of 4/15/20': 1, 'Deaths as of 4/22/20': 1, 'Deaths as of 4/29/20': 1, 'Deaths as of 5/6/20': 1, 'Current Deaths (5/11/20)': 1, 'Deaths next week (5/17/20)': 1, 'Cases Predicted': 13.927571933574164, 'Deaths Predicted': 1.4285507624153717}\n"
     ]
    }
   ],
   "source": [
    "# The file below is a new file.\n",
    "# This file contains the predictions of number of cases next week( the output of CASESNEXTWEEK AI), as well the \n",
    "# predictions of deaths in the next week ( output of DEATHSPREDITOR AI).\n",
    "# This can also be used to perform comparisons and graphs for data visualization.\n",
    "\n",
    "f = open('/Users/Madhusudan/downloads/COVID_CA_DEATHS_FE_withCases_Deaths_Prediction.csv','w')\n",
    "w = csv.writer(f)\n",
    "\n",
    "# the function that can be used for integration into code to generate and use predictions.\n",
    "def get_prediction(data={\"Population\":1685886,\"Deaths as of 3/4/20\":0,\"Deaths as of 3/11/20\":1,\"Deaths as of 3/18/20\":3,\"Deaths as of 3/25/20\":6,\"Deaths as of 4/1/20\":9,\"Deaths as of 4/8/20\":15,\"Deaths as of 4/15/20\":36,\"Deaths as of 4/22/20\":50,\"Deaths as of 4/29/20\":61,\"Deaths as of 5/6/20\":69,\"Current Deaths (5/11/20)\":75,\"Cases Predicted\":2328.515286655843}):\n",
    "    url = 'https://tjuz1be4l7.execute-api.us-east-1.amazonaws.com/Predict/a5c569c1-7691-4981-b372-18cce0b16d00'\n",
    "    r = requests.post(url, data=json.dumps(data))\n",
    "    response = getattr(r,'_content').decode(\"utf-8\")\n",
    "    #print(response)\n",
    "    return response\n",
    "\n",
    "# add the deaths prediction column with its value into the dict.\n",
    "#records_array = data.to_dict('records')\n",
    "\n",
    "for a in range(0,len(records_array)):\n",
    "    prediction = json.loads(json.loads(get_prediction(data = records_array[a]))['body'])['predicted_label']\n",
    "    records_array[a][\"Deaths Predicted\"] = prediction\n",
    "\n",
    "# Write all the data from the dict into the csv\n",
    "w.writerow(records_array[0].keys())\n",
    "for a in range(0,len(records_array)):\n",
    "    w.writerow(records_array[a].values())\n",
    "f.close()"
   ]
  },
  {
   "cell_type": "code",
   "execution_count": null,
   "metadata": {},
   "outputs": [],
   "source": []
  }
 ],
 "metadata": {
  "kernelspec": {
   "display_name": "Python 3",
   "language": "python",
   "name": "python3"
  },
  "language_info": {
   "codemirror_mode": {
    "name": "ipython",
    "version": 3
   },
   "file_extension": ".py",
   "mimetype": "text/x-python",
   "name": "python",
   "nbconvert_exporter": "python",
   "pygments_lexer": "ipython3",
   "version": "3.7.4"
  }
 },
 "nbformat": 4,
 "nbformat_minor": 2
}
